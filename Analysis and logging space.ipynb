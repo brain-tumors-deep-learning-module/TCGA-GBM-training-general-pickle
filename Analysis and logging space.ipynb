{
 "cells": [
  {
   "cell_type": "code",
   "execution_count": 1,
   "metadata": {},
   "outputs": [],
   "source": [
    "import os"
   ]
  },
  {
   "cell_type": "code",
   "execution_count": 2,
   "metadata": {},
   "outputs": [],
   "source": [
    "# Getting all patients\n",
    "seg_dir = '/home/omar/Desktop/DropboxData/Dropbox-GBM/TCGA-GBM/'\n",
    "for file in sorted(os.listdir(seg_dir)):\n",
    "    seg_data_array = []\n",
    "    patient_data_path = seg_dir + file + \"/DSO/\"\n",
    "    for scan in sorted(os.listdir(patient_data_path)):\n",
    "        if 'corrected' in scan:\n",
    "            seg_data_array.append(scan)\n",
    "#     print (seg_data_array)"
   ]
  },
  {
   "cell_type": "code",
   "execution_count": null,
   "metadata": {},
   "outputs": [],
   "source": []
  }
 ],
 "metadata": {
  "kernelspec": {
   "display_name": "Python 3",
   "language": "python",
   "name": "python3"
  },
  "language_info": {
   "codemirror_mode": {
    "name": "ipython",
    "version": 3
   },
   "file_extension": ".py",
   "mimetype": "text/x-python",
   "name": "python",
   "nbconvert_exporter": "python",
   "pygments_lexer": "ipython3",
   "version": "3.6.8"
  }
 },
 "nbformat": 4,
 "nbformat_minor": 2
}
