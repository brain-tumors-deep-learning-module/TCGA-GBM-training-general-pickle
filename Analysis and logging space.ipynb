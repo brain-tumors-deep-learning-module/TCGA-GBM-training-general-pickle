{
 "cells": [
  {
   "cell_type": "code",
   "execution_count": 1,
   "metadata": {},
   "outputs": [],
   "source": [
    "import os"
   ]
  },
  {
   "cell_type": "code",
   "execution_count": 2,
   "metadata": {},
   "outputs": [
    {
     "name": "stdout",
     "output_type": "stream",
     "text": [
      "['seg_corrected_3-AX__T2__FSE-27597.dcm', 'seg_corrected_4-AX__FLAIR-23922.dcm', 'seg_corrected_5-AX__T1-62419.dcm', 'seg_corrected_6-AX__T1__POST-26504.dcm']\n",
      "['seg_corrected_3-AX__T2__FSE-01423.dcm', 'seg_corrected_4-AX__FLAIR-31290.dcm', 'seg_corrected_5-AX__T1-38458.dcm', 'seg_corrected_6-AX__T1__POST-70502.dcm']\n",
      "['seg_corrected_3-AX__T2__FSE-71371.dcm', 'seg_corrected_4-AX__FLAIR-45181.dcm', 'seg_corrected_5-AX__T1-73320.dcm', 'seg_corrected_6-AX__T1__POST-76642.dcm']\n",
      "['seg_corrected_4-AX__T2__FSE-25529.dcm', 'seg_corrected_5-AX__FLAIR-89982.dcm', 'seg_corrected_6-AX__T1-67057.dcm', 'seg_corrected_9-AX__T1__POST-33611.dcm']\n",
      "['seg_corrected_10-FSE__T2-35736.dcm', 'seg_corrected_11-T2__FLAIR-76096.dcm', 'seg_corrected_14-FSPGR__3D-90164.dcm', 'seg_corrected_17-Ax__SE__T1__Post-08723.dcm']\n",
      "['seg_corrected_3-AX__T2__FSE-87118.dcm', 'seg_corrected_4-AX__FLAIR-14351.dcm', 'seg_corrected_5-AX__T1-84008.dcm', 'seg_corrected_6-AX__T1__POST-23335.dcm']\n",
      "['seg_corrected_11-AX__T1__POST-86265.dcm', 'seg_corrected_3-AX__T2__FSE-43139.dcm', 'seg_corrected_4-AX__FLAIR-08895.dcm', 'seg_corrected_6-AX__T1-94367.dcm']\n",
      "['seg_corrected_3-AX__T2__FSE-03373.dcm', 'seg_corrected_4-AX__FLAIR-75922.dcm', 'seg_corrected_5-AX__T1-90547.dcm', 'seg_corrected_6-AX__T1__POST-08177.dcm']\n",
      "['seg_corrected_10-AX__T1__POST__GD__FLAIR-87338.dcm', 'seg_corrected_5-AX__T2__FR-FSE__RF2__150-82166.dcm', 'seg_corrected_6-AXIAL__T2__FLAIR-32576.dcm', 'seg_corrected_8-AX__T1__pre__gd-30080.dcm']\n",
      "['seg_corrected_10-AXIAL__T1__GD-78761.dcm', 'seg_corrected_3-AXIAL__FSE-52331.dcm', 'seg_corrected_4-AXIAL__FLAIR-90714.dcm', 'seg_corrected_8-AXIAL__T1-14022.dcm']\n",
      "['seg_corrected_4-AX__T2__FR-FSE__RF2__150-37218.dcm', 'seg_corrected_5-AXIAL__T2__FLAIR-94682.dcm', 'seg_corrected_7-AX__T1__pre__gd-61428.dcm', 'seg_corrected_9-AX__T1__POST__GD__FLAIR-08425.dcm']\n",
      "['seg_corrected_3-AXIAL__FSE-86980.dcm', 'seg_corrected_4-Ax__FLAIR__2.5mm__for__surgery-96866.dcm', 'seg_corrected_6-AXIAL__T1-60748.dcm', 'seg_corrected_8-Ax__T1__2.5mm__for__surgery-08941.dcm']\n",
      "['seg_corrected_11-AX__T1__POST__GD__FLAIR-94004.dcm', 'seg_corrected_5-AX__T2__FR-FSE__RF2__150-89120.dcm', 'seg_corrected_7-AXIAL__T2__FLAIR-03384.dcm', 'seg_corrected_9-AX__T1__pre__gd-55629.dcm']\n",
      "['seg_corrected_11-AX__T1__POST__GD__FLAIR-15818.dcm', 'seg_corrected_6-AX__T2__FR-FSE__RF2__150-66062.dcm', 'seg_corrected_7-AXIAL__FLAIR-40162.dcm', 'seg_corrected_8-AX__T1__pre__gd-51584.dcm']\n",
      "['seg_corrected_13-AX__T1__POST__GD__FLAIR-17395.dcm', 'seg_corrected_5-AXIAL__FLAIR-52893.dcm', 'seg_corrected_6-AX__T2__FR-FSE__RF2__150-26501.dcm', 'seg_corrected_7-AX__T1__pre__gd-88614.dcm']\n",
      "['seg_corrected_12-COR____T1__POST__GD__FLAIR-63374.dcm', 'seg_corrected_6-AXIAL__FLAIR-29575.dcm', 'seg_corrected_7-AX__T2__FR-FSE__RF2__150-50190.dcm', 'seg_corrected_8-AX__T1__pre__gd-10183.dcm']\n",
      "['seg_corrected_2-FSPGR__SAG-43599.dcm', 'seg_corrected_4-AX__FLAIR-31670.dcm', 'seg_corrected_6-3D__SPGR__AX-29720.dcm', 'seg_corrected_7-3D__FSE__AX-89870.dcm']\n",
      "[]\n",
      "[]\n",
      "['seg_corrected_2-ax__t1-33256.dcm', 'seg_corrected_3-ax__t2-29260.dcm', 'seg_corrected_5-ax__flair-09401.dcm', 'seg_corrected_8-cor__mprage__c-81607.dcm']\n",
      "['seg_corrected_2-MRHG__T2__AXIALS-83338.dcm', 'seg_corrected_3-MRHG__FLAIR__AX-87168.dcm', 'seg_corrected_6-MRHG__T1__AX-65851.dcm', 'seg_corrected_7-MRHG__T1__AX__POST__GAD-84768.dcm']\n",
      "['seg_corrected_12-VOLUMAXGAD-91466.dcm', 'seg_corrected_2-MP__RAGE__AXIAL__VOLUMETRIC-05187.dcm', 'seg_corrected_8-FLAIR__AX-08703.dcm', 'seg_corrected_9-TSE__T2__ax-75950.dcm']\n",
      "['seg_corrected_11-MRHR__T1__AX-84384.dcm', 'seg_corrected_12-MP__RAGE__AXIAL__VOLUMETRIC-21079.dcm', 'seg_corrected_2-MRHR__T2__AX-61279.dcm', 'seg_corrected_3-MRHR__FLAIR__AX-17941.dcm']\n",
      "['seg_corrected_3-T2__AX-62164.dcm', 'seg_corrected_7-FLAIR__AX-90386.dcm', 'seg_corrected_8-TIR__T1__AX-02076.dcm', 'seg_corrected_9-T1__AXIAL__Gd-31768.dcm']\n",
      "['seg_corrected_3-BRAINSTRYKERT1AXIAL-83401.dcm', 'seg_corrected_4-BRAINSTRYKERT2AXDOUBLE-61860.dcm', 'seg_corrected_6-FASTBRAINFLAIRAXIAL-30248.dcm', 'seg_corrected_8-BRAINSTRYKERt1AX-44511.dcm']\n",
      "['seg_corrected_1101-T1__AX____SE-88216.dcm', 'seg_corrected_1301-T1__AX__SE__FS__POST-40917.dcm', 'seg_corrected_801-T2__AX__FLAIR-73732.dcm', 'seg_corrected_901-AXIAL____T2-20547.dcm']\n",
      "['seg_corrected_401-T2__AX__FLAIR-15378.dcm', 'seg_corrected_501-DUAL__AX__T2-58337.dcm', 'seg_corrected_601-T1__SE__PRE-08700.dcm', 'seg_corrected_701-T1__SE__POST-22590.dcm']\n",
      "['seg_corrected_4-BRAINSTRYKERT1AXIAL-28304.dcm', 'seg_corrected_5-BRAINSTRYKERT2AXDOUBLE-70745.dcm', 'seg_corrected_6-BRAINSTRYKERFLAIR-14133.dcm', 'seg_corrected_8-BRAINSTRYKERAX-RAGE-STRY-74121.dcm']\n",
      "['seg_corrected_1301-T1__AX__SE-33803.dcm', 'seg_corrected_501-T2__AX__FLAIR-29295.dcm', 'seg_corrected_701-T2WTSE-71095.dcm', 'seg_corrected_901-T1__AX____SE-00914.dcm']\n"
     ]
    }
   ],
   "source": [
    "# Getting all patients\n",
    "seg_dir = '/home/omar/Desktop/DropboxData/Dropbox-GBM/TCGA-GBM/'\n",
    "for file in sorted(os.listdir(seg_dir)):\n",
    "    seg_data_array = []\n",
    "    patient_data_path = seg_dir + file + \"/DSO/\"\n",
    "    for scan in sorted(os.listdir(patient_data_path)):\n",
    "        if 'corrected' in scan:\n",
    "            seg_data_array.append(scan)\n",
    "    print (seg_data_array)"
   ]
  },
  {
   "cell_type": "code",
   "execution_count": null,
   "metadata": {},
   "outputs": [],
   "source": []
  }
 ],
 "metadata": {
  "kernelspec": {
   "display_name": "Python 3",
   "language": "python",
   "name": "python3"
  },
  "language_info": {
   "codemirror_mode": {
    "name": "ipython",
    "version": 3
   },
   "file_extension": ".py",
   "mimetype": "text/x-python",
   "name": "python",
   "nbconvert_exporter": "python",
   "pygments_lexer": "ipython3",
   "version": "3.6.8"
  }
 },
 "nbformat": 4,
 "nbformat_minor": 2
}
