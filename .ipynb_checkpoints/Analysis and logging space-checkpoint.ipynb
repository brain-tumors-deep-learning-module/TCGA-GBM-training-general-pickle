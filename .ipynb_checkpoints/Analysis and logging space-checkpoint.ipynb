{
 "cells": [
  {
   "cell_type": "code",
   "execution_count": 1,
   "metadata": {},
   "outputs": [],
   "source": [
    "import os"
   ]
  },
  {
   "cell_type": "code",
   "execution_count": 7,
   "metadata": {},
   "outputs": [
    {
     "name": "stdout",
     "output_type": "stream",
     "text": [
      "TCGA-02-0006\n",
      "TCGA-02-0009\n",
      "TCGA-02-0046\n",
      "TCGA-02-0054\n",
      "TCGA-02-0075\n",
      "TCGA-02-0085\n",
      "TCGA-02-0086\n",
      "TCGA-02-0106\n",
      "TCGA-06-0138\n",
      "TCGA-06-0145\n",
      "TCGA-06-0149\n",
      "TCGA-06-0177\n",
      "TCGA-06-0179\n",
      "TCGA-06-2570\n",
      "TCGA-06-5417\n",
      "TCGA-06-6389\n",
      "TCGA-08-0355\n",
      "TCGA-08-0509\n",
      "TCGA-08-0520\n",
      "TCGA-12-0616\n",
      "TCGA-19-0963\n",
      "TCGA-19-1789\n",
      "TCGA-19-2624\n",
      "TCGA-19-5960\n",
      "TCGA-76-4932\n",
      "TCGA-76-4935\n",
      "TCGA-76-6280\n",
      "TCGA-76-6282\n",
      "TCGA-76-6657\n"
     ]
    }
   ],
   "source": [
    "# Getting all patients\n",
    "seg_dir = '/home/omar/Desktop/DropboxData/Dropbox-GBM/TCGA-GBM/'\n",
    "for file in sorted(os.listdir(seg_dir)):\n",
    "    patient_data_path = seg_dir + file"
   ]
  },
  {
   "cell_type": "code",
   "execution_count": null,
   "metadata": {},
   "outputs": [],
   "source": []
  }
 ],
 "metadata": {
  "kernelspec": {
   "display_name": "Python 3",
   "language": "python",
   "name": "python3"
  },
  "language_info": {
   "codemirror_mode": {
    "name": "ipython",
    "version": 3
   },
   "file_extension": ".py",
   "mimetype": "text/x-python",
   "name": "python",
   "nbconvert_exporter": "python",
   "pygments_lexer": "ipython3",
   "version": "3.6.8"
  }
 },
 "nbformat": 4,
 "nbformat_minor": 2
}
