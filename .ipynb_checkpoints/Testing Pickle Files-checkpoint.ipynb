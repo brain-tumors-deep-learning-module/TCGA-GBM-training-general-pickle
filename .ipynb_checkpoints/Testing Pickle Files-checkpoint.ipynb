{
 "cells": [
  {
   "cell_type": "code",
   "execution_count": 1,
   "metadata": {},
   "outputs": [],
   "source": [
    "# Imported libraries\n",
    "import pydicom\n",
    "import matplotlib.pyplot as plt\n",
    "import numpy as np\n",
    "import sys\n",
    "import matplotlib as mpl\n",
    "import imageio\n",
    "import cv2\n",
    "import sys\n",
    "import os\n",
    "import pickle\n",
    "# np.set_printoptions(threshold=sys.maxsize)"
   ]
  },
  {
   "cell_type": "code",
   "execution_count": 3,
   "metadata": {},
   "outputs": [
    {
     "name": "stdout",
     "output_type": "stream",
     "text": [
      "29\n",
      "17\n"
     ]
    }
   ],
   "source": [
    "path_to_directory = '/home/omar/Desktop/TrainingResult_dup/'\n",
    "pickle_files = os.listdir(path_to_directory)\n",
    "\n",
    "# print (pickle_files)\n",
    "# Removed 08-0509 and 08-0520\n",
    "# x = ['TCGA-02-0006.pickle', 'TCGA-08-0355.pickle', 'TCGA-02-0085.pickle',\n",
    "#      'TCGA-76-4932.pickle', 'TCGA-06-0138.pickle', 'TCGA-19-2624.pickle', \n",
    "#      'TCGA-76-4935.pickle', 'TCGA-06-2570.pickle',\n",
    "#      'TCGA-76-6280.pickle', 'TCGA-06-6389.pickle', 'TCGA-06-0149.pickle',\n",
    "#      'TCGA-02-0086.pickle', 'TCGA-02-0009.pickle', 'TCGA-76-6657.pickle',\n",
    "#      'TCGA-12-0616.pickle', 'TCGA-19-0963.pickle', 'TCGA-76-6282.pickle',\n",
    "#      'TCGA-19-1789.pickle', 'TCGA-02-0054.pickle', 'TCGA-06-0179.pickle',\n",
    "#      'TCGA-02-0106.pickle', 'TCGA-02-0075.pickle',\n",
    "#      'TCGA-02-0046.pickle', 'TCGA-19-5960.pickle', 'TCGA-06-0177.pickle',\n",
    "#      'TCGA-06-5417.pickle', 'TCGA-06-0145.pickle']\n",
    "\n",
    "# file = 'TCGA-02-0006.pickle'\n",
    "# patient = open(\"%s\" % (path_to_directory+file), \"rb\")\n",
    "# patient_data = pickle.load(patient)\n",
    "# print(patient_data[4][0][:,:,0].shape)\n",
    "# print(patient_data[0][4])\n",
    "# paient_dict = {}\n",
    "# counter = 0\n",
    "# for i in pickle_files:\n",
    "#     file = path_to_directory+i\n",
    "#     patient = open(\"%s\" % file, \"rb\")\n",
    "#     patient_data = pickle.load(patient)\n",
    "# #     print(i)\n",
    "#     paient_dict[i] = patient_data[0][0].shape\n",
    "# #     print(i, patient_data[0][0].shape)\n",
    "# for i ,(key, value) in enumerate(sorted(paient_dict.items())):\n",
    "#     print (key, value)\n",
    "# print (print (key, value) for i, (key, value) in enumerate(sorted(paient_dict.items())))\n",
    "# for i in range(len(patient_data[4])):\n",
    "#     print (i)\n",
    "#     print (patient_data[4][i])\n",
    "#     print (\"________________________________\")\n",
    "    \n",
    "counter = 0\n",
    "for i in pickle_files:\n",
    "    file = path_to_directory+i\n",
    "    patient = open(\"%s\" % file, \"rb\")\n",
    "    patient_data = pickle.load(patient)\n",
    "    print (i, patient_data[0][0].shape)\n",
    "    if patient_data[0][0].shape == (256,256):\n",
    "        counter+=1\n",
    "print(len(pickle_files))\n",
    "print(counter)\n",
    "# Interesting Plots\n",
    "# 'TCGA-08-0355.pickle'\n",
    "# 'TCGA-02-0085.pickle'\n",
    "# 'TCGA-76-4935.pickle' - Some weird plots with oversegmented areas at scan 2\n",
    "# Patient 'TCGA-06-0138.pickle'"
   ]
  },
  {
   "cell_type": "code",
   "execution_count": null,
   "metadata": {},
   "outputs": [],
   "source": []
  }
 ],
 "metadata": {
  "kernelspec": {
   "display_name": "Python 3",
   "language": "python",
   "name": "python3"
  },
  "language_info": {
   "codemirror_mode": {
    "name": "ipython",
    "version": 3
   },
   "file_extension": ".py",
   "mimetype": "text/x-python",
   "name": "python",
   "nbconvert_exporter": "python",
   "pygments_lexer": "ipython3",
   "version": "3.6.8"
  }
 },
 "nbformat": 4,
 "nbformat_minor": 2
}
