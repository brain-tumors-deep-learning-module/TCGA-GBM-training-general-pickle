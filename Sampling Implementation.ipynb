{
 "cells": [
  {
   "cell_type": "code",
   "execution_count": 1,
   "metadata": {},
   "outputs": [],
   "source": [
    "# Imported libraries\n",
    "import pydicom\n",
    "import matplotlib.pyplot as plt\n",
    "import numpy as np\n",
    "import sys\n",
    "import matplotlib as mpl\n",
    "import imageio\n",
    "import cv2\n",
    "import sys\n",
    "import os\n",
    "import pickle"
   ]
  },
  {
   "cell_type": "code",
   "execution_count": 2,
   "metadata": {},
   "outputs": [],
   "source": [
    "# Function to be used for sampling images\n",
    "def downSample(pickle_file):\n",
    "    final_patient_data = []\n",
    "    seg_final_array = []\n",
    "    original_seg_array = pickle_file[4]\n",
    "    for scan in range(len(pickle_file)):\n",
    "        scan_seg = []\n",
    "        if scan != 4:\n",
    "            scan_type_array = []\n",
    "            array_seg = []\n",
    "            for array in range(len(pickle_file[scan])):\n",
    "                new_array = cv2.resize(pickle_file[scan][array], dsize=(256,256), interpolation=cv2.INTER_CUBIC)\n",
    "                scan_type_array.append(new_array)\n",
    "                designated_seg_arr = original_seg_array[scan][:,:,array]\n",
    "                resized_seg = cv2.resize(designated_seg_arr, dsize=(256,256), interpolation=cv2.INTER_CUBIC)\n",
    "                array_seg.append(resized_seg)\n",
    "            seg_final_array.append(array_seg)\n",
    "            final_patient_data.append(scan_type_array)\n",
    "    final_patient_data.append(seg_final_array)\n",
    "    return final_patient_data"
   ]
  },
  {
   "cell_type": "code",
   "execution_count": 3,
   "metadata": {},
   "outputs": [],
   "source": [
    "pickle_file_dir = '/home/omar/Desktop/TrainingResult_dup/'\n",
    "pickle_files = os.listdir(pickle_file_dir)\n",
    "\n",
    "result_dir = '/home/omar/Desktop/sampled_output'\n",
    "os.chdir(result_dir)\n",
    "\n",
    "for file in pickle_files:\n",
    "    reading_data = open(\"%s\" % (pickle_file_dir+file), \"rb\")\n",
    "    patient_data = pickle.load(reading_data)\n",
    "    if patient_data[0][0].shape != (256,256):\n",
    "        generated_patient_pickle = open(\"%s\" % (file) ,\"wb\")\n",
    "        new_sampled_data = downSample(patient_data)\n",
    "        pickle.dump(new_sampled_data, generated_patient_pickle)\n",
    "        generated_patient_pickle.close()\n",
    "    else:\n",
    "        generated_patient_pickle = open(\"%s\" % (file) ,\"wb\")\n",
    "        pickle.dump(patient_data, generated_patient_pickle)\n",
    "        generated_patient_pickle.close()"
   ]
  },
  {
   "cell_type": "code",
   "execution_count": null,
   "metadata": {},
   "outputs": [],
   "source": [
    "# # Implementation completed. Now comes the result testing\n",
    "# output_dir = '/home/omar/Desktop/sampled_output/'\n",
    "# output_pickles = os.listdir(output_dir)\n",
    "\n",
    "# for file in output_pickles:\n",
    "#     reading_data = reading_data = open(\"%s\" % (output_dir+file), \"rb\")\n",
    "#     patient_data = pickle.load(reading_data)\n",
    "# #     print(patient_data[0][0].shape)\n",
    "#     print(file)\n",
    "#     for scan in range(len(patient_data)):\n",
    "#         if scan != 4:\n",
    "#             for array in range(len(patient_data[scan])):\n",
    "# #                 plt.figure(figsize=(1,10))\n",
    "#                 plt.subplot(121)\n",
    "#                 plt.imshow(np.squeeze(patient_data[scan][array]), 'gray')\n",
    "#                 plt.subplot(122)\n",
    "#                 plt.imshow(np.squeeze(patient_data[4][scan][array]), 'gray')\n",
    "#                 plt.show()\n",
    "#             print (\"-----------------\")\n",
    "#     print(\"__________________________________________________________________\")"
   ]
  },
  {
   "cell_type": "code",
   "execution_count": null,
   "metadata": {},
   "outputs": [],
   "source": []
  }
 ],
 "metadata": {
  "kernelspec": {
   "display_name": "Python 3",
   "language": "python",
   "name": "python3"
  },
  "language_info": {
   "codemirror_mode": {
    "name": "ipython",
    "version": 3
   },
   "file_extension": ".py",
   "mimetype": "text/x-python",
   "name": "python",
   "nbconvert_exporter": "python",
   "pygments_lexer": "ipython3",
   "version": "3.6.8"
  }
 },
 "nbformat": 4,
 "nbformat_minor": 2
}
